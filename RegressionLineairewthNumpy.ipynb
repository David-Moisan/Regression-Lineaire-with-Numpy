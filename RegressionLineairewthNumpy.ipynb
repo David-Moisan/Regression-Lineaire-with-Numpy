{
 "cells": [
  {
   "cell_type": "code",
   "execution_count": 3,
   "id": "dominant-deadline",
   "metadata": {},
   "outputs": [],
   "source": [
    "import numpy as np\n",
    "from sklearn.datasets import make_regression\n",
    "import matplotlib.pyplot as plt"
   ]
  },
  {
   "cell_type": "markdown",
   "id": "motivated-portsmouth",
   "metadata": {},
   "source": [
    "# 1) Dataset \n",
    "\n",
    "Pour créer la dataset, nous allons utiliser le module sklearn et sa méthode make_regression(int, int, int) qui prend 3 paramètres (n_samples, n_features, noise)\n"
   ]
  },
  {
   "cell_type": "code",
   "execution_count": 5,
   "id": "ideal-narrow",
   "metadata": {},
   "outputs": [
    {
     "data": {
      "text/plain": [
       "<matplotlib.collections.PathCollection at 0x15ac069fca0>"
      ]
     },
     "execution_count": 5,
     "metadata": {},
     "output_type": "execute_result"
    },
    {
     "data": {
      "image/png": "[encoded data removed]",
      "text/plain": [
       "<Figure size 432x288 with 1 Axes>"
      ]
     },
     "metadata": {
      "needs_background": "light"
     },
     "output_type": "display_data"
    }
   ],
   "source": [
    "x, y = make_regression(n_samples=100, n_features=1, noise=10)\n",
    "# Pour observer le tableau ainsi créé nous utilisons matplotlib et une de ses méthode scatter()\n",
    "plt.scatter(x, y)"
   ]
  },
  {
   "cell_type": "markdown",
   "id": "prescription-physiology",
   "metadata": {},
   "source": [
    "Rappel: Vérifier les dimensions des matrices"
   ]
  },
  {
   "cell_type": "code",
   "execution_count": 8,
   "id": "offshore-japan",
   "metadata": {},
   "outputs": [
    {
     "name": "stdout",
     "output_type": "stream",
     "text": [
      "(100, 1)\n",
      "(100, 1)\n"
     ]
    }
   ],
   "source": [
    "print(x.shape)\n",
    "# Lors du 1er affichage de y nous avions une dimension non préciser nativement suite à la méthode sklearn\n",
    "# Il est important de redimensionner la variable y pour éviter des erreurs de calcule. \n",
    "# la méthode reshape() permet de redimensionner la variable Y \n",
    "y = y.reshape(y.shape[0], 1)\n",
    "print(y.shape)"
   ]
  },
  {
   "cell_type": "code",
   "execution_count": 10,
   "id": "drawn-amber",
   "metadata": {},
   "outputs": [
    {
     "data": {
      "text/plain": [
       "array([[-0.31755523,  1.        ],\n",
       "       [-0.1493113 ,  1.        ],\n",
       "       [ 1.15608946,  1.        ],\n",
       "       [-0.08053479,  1.        ],\n",
       "       [-0.49054573,  1.        ],\n",
       "       [-0.504165  ,  1.        ],\n",
       "       [ 0.89495659,  1.        ],\n",
       "       [ 1.94552466,  1.        ],\n",
       "       [-0.02250399,  1.        ],\n",
       "       [-0.48692932,  1.        ],\n",
       "       [ 1.23610818,  1.        ],\n",
       "       [-0.16344396,  1.        ],\n",
       "       [-0.87620228,  1.        ],\n",
       "       [ 1.28963579,  1.        ],\n",
       "       [ 1.22630931,  1.        ],\n",
       "       [-0.10334827,  1.        ],\n",
       "       [ 1.86584098,  1.        ],\n",
       "       [ 0.1394503 ,  1.        ],\n",
       "       [-1.16718309,  1.        ],\n",
       "       [-1.47613183,  1.        ],\n",
       "       [ 0.90883302,  1.        ],\n",
       "       [ 1.00203609,  1.        ],\n",
       "       [-1.57012616,  1.        ],\n",
       "       [-1.1708511 ,  1.        ],\n",
       "       [ 0.36227428,  1.        ],\n",
       "       [-0.95856516,  1.        ],\n",
       "       [-0.00714669,  1.        ],\n",
       "       [ 2.01726129,  1.        ],\n",
       "       [-0.37809061,  1.        ],\n",
       "       [ 0.77400702,  1.        ],\n",
       "       [-0.81640505,  1.        ],\n",
       "       [-0.17729535,  1.        ],\n",
       "       [-0.37934292,  1.        ],\n",
       "       [ 0.12251871,  1.        ],\n",
       "       [-1.30578055,  1.        ],\n",
       "       [ 0.23181745,  1.        ],\n",
       "       [ 0.92300705,  1.        ],\n",
       "       [ 0.31594043,  1.        ],\n",
       "       [ 0.12919486,  1.        ],\n",
       "       [-0.61196574,  1.        ],\n",
       "       [ 1.75550593,  1.        ],\n",
       "       [-0.73513808,  1.        ],\n",
       "       [ 0.39904811,  1.        ],\n",
       "       [-0.68011992,  1.        ],\n",
       "       [ 1.64792054,  1.        ],\n",
       "       [ 0.60812861,  1.        ],\n",
       "       [ 0.07347737,  1.        ],\n",
       "       [ 1.79521448,  1.        ],\n",
       "       [ 0.32061912,  1.        ],\n",
       "       [ 1.96721588,  1.        ],\n",
       "       [-0.27352964,  1.        ],\n",
       "       [-0.27798521,  1.        ],\n",
       "       [-0.7019381 ,  1.        ],\n",
       "       [-0.17103488,  1.        ],\n",
       "       [ 0.24565491,  1.        ],\n",
       "       [ 0.61630041,  1.        ],\n",
       "       [ 0.88460222,  1.        ],\n",
       "       [ 1.85536247,  1.        ],\n",
       "       [-1.92251894,  1.        ],\n",
       "       [-1.13698615,  1.        ],\n",
       "       [ 0.84521565,  1.        ],\n",
       "       [-1.55693703,  1.        ],\n",
       "       [ 0.83116142,  1.        ],\n",
       "       [-1.08758875,  1.        ],\n",
       "       [ 0.31086798,  1.        ],\n",
       "       [ 0.99017142,  1.        ],\n",
       "       [-0.54169719,  1.        ],\n",
       "       [-0.27958762,  1.        ],\n",
       "       [ 0.01752856,  1.        ],\n",
       "       [ 1.25819262,  1.        ],\n",
       "       [-0.37826673,  1.        ],\n",
       "       [-0.00872017,  1.        ],\n",
       "       [ 0.78143456,  1.        ],\n",
       "       [ 0.69893134,  1.        ],\n",
       "       [-1.43905266,  1.        ],\n",
       "       [ 0.64111471,  1.        ],\n",
       "       [-0.29503397,  1.        ],\n",
       "       [-0.26352138,  1.        ],\n",
       "       [-0.25458252,  1.        ],\n",
       "       [-1.84853914,  1.        ],\n",
       "       [ 1.42872441,  1.        ],\n",
       "       [-0.1772654 ,  1.        ],\n",
       "       [-0.28257774,  1.        ],\n",
       "       [ 0.15089189,  1.        ],\n",
       "       [ 0.0530027 ,  1.        ],\n",
       "       [-1.57868292,  1.        ],\n",
       "       [ 0.72950436,  1.        ],\n",
       "       [-0.02873184,  1.        ],\n",
       "       [ 0.00547386,  1.        ],\n",
       "       [-2.00660708,  1.        ],\n",
       "       [ 0.26350679,  1.        ],\n",
       "       [ 1.27599527,  1.        ],\n",
       "       [ 1.15121947,  1.        ],\n",
       "       [-1.24338087,  1.        ],\n",
       "       [ 0.65203319,  1.        ],\n",
       "       [-0.76556554,  1.        ],\n",
       "       [-0.19235281,  1.        ],\n",
       "       [ 0.39737617,  1.        ],\n",
       "       [ 0.00950422,  1.        ],\n",
       "       [-0.24595244,  1.        ]])"
      ]
     },
     "execution_count": 10,
     "metadata": {},
     "output_type": "execute_result"
    }
   ],
   "source": [
    "# Créer la matrice X grace à la méthode numpy hstack().\n",
    "# La méthode hstack() permet de \"collé\" ensemble 2 vecteurs numpy a côté de l'autre\n",
    "# x = (vecteur(x), vecteur(1)==len(x.shape)) \n",
    "X = np.hstack((x, np.ones(x.shape)))\n",
    "X"
   ]
  },
  {
   "cell_type": "code",
   "execution_count": 14,
   "id": "grand-participation",
   "metadata": {},
   "outputs": [
    {
     "name": "stdout",
     "output_type": "stream",
     "text": [
      "(2, 1)\n",
      "[[-0.72253319]\n",
      " [-0.32046289]]\n"
     ]
    }
   ],
   "source": [
    "# Initialiser le vecteur θ (thêta) avec des paramètres aléatoires\n",
    "theta = np.random.randn(2, 1)\n",
    "print(theta.shape)\n",
    "print(theta)"
   ]
  },
  {
   "cell_type": "markdown",
   "id": "wrong-norway",
   "metadata": {},
   "source": [
    "# 2) Modèle Linéaire"
   ]
  },
  {
   "cell_type": "code",
   "execution_count": 15,
   "id": "outside-anime",
   "metadata": {},
   "outputs": [],
   "source": [
    "# fonction F(x) = X.θ \n",
    "def model(X, theta):\n",
    "    return X.dot(theta)"
   ]
  },
  {
   "cell_type": "markdown",
   "id": "creative-lucas",
   "metadata": {},
   "source": [
    "# 3) Fonction coût"
   ]
  },
  {
   "cell_type": "code",
   "execution_count": 19,
   "id": "arctic-english",
   "metadata": {},
   "outputs": [],
   "source": [
    "def cost_function(X, y, theta):\n",
    "    # m est égale à la longueur du vecteur Y\n",
    "    m = len(y)\n",
    "    return 1/(2*m) * np.sum((model(X, theta) - y)**2)"
   ]
  },
  {
   "cell_type": "code",
   "execution_count": 20,
   "id": "earlier-class",
   "metadata": {},
   "outputs": [
    {
     "data": {
      "text/plain": [
       "4381.787230955404"
      ]
     },
     "execution_count": 20,
     "metadata": {},
     "output_type": "execute_result"
    }
   ],
   "source": [
    "cost_function(X, y, theta)"
   ]
  },
  {
   "cell_type": "markdown",
   "id": "dominant-brighton",
   "metadata": {},
   "source": [
    "# 4) Descente de Gradient"
   ]
  },
  {
   "cell_type": "code",
   "execution_count": 21,
   "id": "advanced-association",
   "metadata": {},
   "outputs": [],
   "source": [
    "def grad(X, y, theta):\n",
    "    m = len(y)\n",
    "    return 1/m * X.T.dot(model(X, theta) - y)"
   ]
  },
  {
   "cell_type": "code",
   "execution_count": 42,
   "id": "invisible-debut",
   "metadata": {},
   "outputs": [],
   "source": [
    "# Algorithme de la descente de gradient \n",
    "def gradient_descent(X, y, theta, learning_rate, n_iterations):\n",
    "    cost_history = np.zeros(n_iterations)\n",
    "    for i in range(0, n_iterations):\n",
    "        theta = theta - learning_rate * grad(X, y, theta)\n",
    "        cost_history[i] = cost_function(X, y, theta)\n",
    "    return theta, cost_history"
   ]
  },
  {
   "cell_type": "markdown",
   "id": "copyrighted-disney",
   "metadata": {},
   "source": [
    "# 5) Entraînement du modèle"
   ]
  },
  {
   "cell_type": "code",
   "execution_count": 80,
   "id": "atlantic-wheel",
   "metadata": {},
   "outputs": [],
   "source": [
    "theta_final, cost_history = gradient_descent(X, y, theta, learning_rate=0.01, n_iterations=1000)"
   ]
  },
  {
   "cell_type": "code",
   "execution_count": 81,
   "id": "otherwise-marsh",
   "metadata": {},
   "outputs": [
    {
     "data": {
      "text/plain": [
       "array([[97.38729897],\n",
       "       [-0.64424096]])"
      ]
     },
     "execution_count": 81,
     "metadata": {},
     "output_type": "execute_result"
    }
   ],
   "source": [
    "theta_final"
   ]
  },
  {
   "cell_type": "code",
   "execution_count": 82,
   "id": "declared-richards",
   "metadata": {},
   "outputs": [
    {
     "data": {
      "text/plain": [
       "[<matplotlib.lines.Line2D at 0x15ac2cc7a00>]"
      ]
     },
     "execution_count": 82,
     "metadata": {},
     "output_type": "execute_result"
    },
    {
     "data": {
      "image/png": "[encoded data removed]",
      "text/plain": [
       "<Figure size 432x288 with 1 Axes>"
      ]
     },
     "metadata": {
      "needs_background": "light"
     },
     "output_type": "display_data"
    }
   ],
   "source": [
    "predictions = model(X, theta_final)\n",
    "plt.scatter(x, y)\n",
    "plt.plot(x, predictions, c=\"r\")"
   ]
  },
  {
   "cell_type": "markdown",
   "id": "spread-switch",
   "metadata": {},
   "source": [
    "# Résultat\n",
    "\n",
    "Comme nous pouvons le constater le résultat n'est pas encore optimal.\n",
    "Pour améliorer la machine nous pouvons changer la valeur de l'hyperparamètre initialement à 0.001 et/ou augmenter le nombre d'itérations de la machine afin de lui laissé plus de temps pour apprendre le meilleur modèle."
   ]
  },
  {
   "cell_type": "code",
   "execution_count": 83,
   "id": "unauthorized-northern",
   "metadata": {},
   "outputs": [
    {
     "data": {
      "text/plain": [
       "[<matplotlib.lines.Line2D at 0x15ac2d63190>]"
      ]
     },
     "execution_count": 83,
     "metadata": {},
     "output_type": "execute_result"
    },
    {
     "data": {
      "image/png": "[encoded data removed]",
      "text/plain": [
       "<Figure size 432x288 with 1 Axes>"
      ]
     },
     "metadata": {
      "needs_background": "light"
     },
     "output_type": "display_data"
    }
   ],
   "source": [
    "plt.plot(range(1000), cost_history)"
   ]
  },
  {
   "cell_type": "markdown",
   "id": "chicken-poland",
   "metadata": {},
   "source": [
    "# 6) Coefficient de détermination"
   ]
  },
  {
   "cell_type": "code",
   "execution_count": 84,
   "id": "composite-notice",
   "metadata": {},
   "outputs": [],
   "source": [
    "def coef_determination(y, pred):\n",
    "    # le résidu de la somme des carrés\n",
    "    u = ((y - pred)**2).sum()\n",
    "    v = ((y - y.mean())**2).sum()\n",
    "    resultat = round(((1 - u/v)* 100))\n",
    "    return str(resultat) + '%'"
   ]
  },
  {
   "cell_type": "code",
   "execution_count": 85,
   "id": "fleet-teddy",
   "metadata": {},
   "outputs": [
    {
     "data": {
      "text/plain": [
       "'99%'"
      ]
     },
     "execution_count": 85,
     "metadata": {},
     "output_type": "execute_result"
    }
   ],
   "source": [
    "coef_determination(y, predictions)"
   ]
  },
  {
   "cell_type": "code",
   "execution_count": null,
   "id": "jewish-distance",
   "metadata": {},
   "outputs": [],
   "source": []
  }
 ],
 "metadata": {
  "kernelspec": {
   "display_name": "Python 3",
   "language": "python",
   "name": "python3"
  },
  "language_info": {
   "codemirror_mode": {
    "name": "ipython",
    "version": 3
   },
   "file_extension": ".py",
   "mimetype": "text/x-python",
   "name": "python",
   "nbconvert_exporter": "python",
   "pygments_lexer": "ipython3",
   "version": "3.9.7"
  }
 },
 "nbformat": 4,
 "nbformat_minor": 5
}
